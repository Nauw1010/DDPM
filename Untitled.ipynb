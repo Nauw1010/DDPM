{
 "cells": [
  {
   "cell_type": "code",
   "execution_count": null,
   "id": "bd44e461-66d8-4ab5-bf31-bfe5743f42e5",
   "metadata": {},
   "outputs": [],
   "source": [
    "import torch\n",
    "import torch.nn as nn"
   ]
  },
  {
   "cell_type": "code",
   "execution_count": null,
   "id": "3f5ebb59-733d-4229-9b68-72441db8b77e",
   "metadata": {},
   "outputs": [],
   "source": [
    "class VectorQuantizer(nn.Module):\n",
    "    def __init__(self,\n",
    "                 num_embeddings: int,\n",
    "                 embedding_dim: int,\n",
    "                 beta: float = 0.25):\n",
    "        super(VectorQuantizer, self).__init__()\n",
    "        self.K = num_embeddings\n",
    "        self.D = embedding_dim\n",
    "        self.beta = beta\n",
    "\n",
    "        self.embedding = nn.Embedding(self.K, self.D)\n",
    "        self.embedding.weight.data.uniform_(-1 / self.K, 1 / self.K)\n",
    "\n",
    "    def forward(self, latents: Tensor) -> Tensor:\n",
    "        latents = latents.permute(0, 2, 3, 1).contiguous()  # [B x D x H x W] -> [B x H x W x D]\n",
    "        latents_shape = latents.shape\n",
    "        flat_latents = latents.view(-1, self.D)  # [BHW x D]\n",
    "\n",
    "        # Compute L2 distance between latents and embedding weights\n",
    "        dist = torch.sum(flat_latents ** 2, dim=1, keepdim=True) + \\\n",
    "               torch.sum(self.embedding.weight ** 2, dim=1) - \\\n",
    "               2 * torch.matmul(flat_latents, self.embedding.weight.t())  # [BHW x K]\n",
    "\n",
    "        # Get the encoding that has the min distance\n",
    "        encoding_inds = torch.argmin(dist, dim=1).unsqueeze(1)  # [BHW, 1]\n",
    "\n",
    "        # Convert to one-hot encodings\n",
    "        device = latents.device\n",
    "        encoding_one_hot = torch.zeros(encoding_inds.size(0), self.K, device=device)\n",
    "        encoding_one_hot.scatter_(1, encoding_inds, 1)  # [BHW x K]\n",
    "\n",
    "        # Quantize the latents\n",
    "        quantized_latents = torch.matmul(encoding_one_hot, self.embedding.weight)  # [BHW, D]\n",
    "        quantized_latents = quantized_latents.view(latents_shape)  # [B x H x W x D]\n",
    "\n",
    "        # Compute the VQ Losses\n",
    "        commitment_loss = F.mse_loss(quantized_latents.detach(), latents)\n",
    "        embedding_loss = F.mse_loss(quantized_latents, latents.detach())\n",
    "\n",
    "        vq_loss = commitment_loss * self.beta + embedding_loss\n",
    "\n",
    "        # Add the residue back to the latents\n",
    "        quantized_latents = latents + (quantized_latents - latents).detach()\n",
    "\n",
    "        return quantized_latents.permute(0, 3, 1, 2).contiguous(), vq_loss  # [B x D x H x W]\n"
   ]
  }
 ],
 "metadata": {
  "kernelspec": {
   "display_name": "Python 3 (ipykernel)",
   "language": "python",
   "name": "python3"
  },
  "language_info": {
   "codemirror_mode": {
    "name": "ipython",
    "version": 3
   },
   "file_extension": ".py",
   "mimetype": "text/x-python",
   "name": "python",
   "nbconvert_exporter": "python",
   "pygments_lexer": "ipython3",
   "version": "3.10.12"
  }
 },
 "nbformat": 4,
 "nbformat_minor": 5
}
